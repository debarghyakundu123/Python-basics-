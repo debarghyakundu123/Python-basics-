{
 "cells": [
  {
   "cell_type": "code",
   "execution_count": 6,
   "metadata": {},
   "outputs": [
    {
     "name": "stdout",
     "output_type": "stream",
     "text": [
      "[2, 6, 1, 7, 5]\n",
      "[1, 2, 5, 6, 7]\n"
     ]
    }
   ],
   "source": [
    "#bubble sort techniques\n",
    "\n",
    "l=[]\n",
    "a=int( input(\"enter the numbes u want\"))\n",
    "for i in range(0,a):\n",
    "    b=int( input(\"enter the numbers u want\"))\n",
    "    l.append(b)\n",
    "print(l)\n",
    "for i in range(0,a):\n",
    "    for j in range(0,a-i-1):\n",
    "        if l[j]>l[j+1]:\n",
    "            l[j],l[j+1]=l[j+1],l[j]\n",
    "print(l)\n",
    "\n"
   ]
  },
  {
   "cell_type": "code",
   "execution_count": 20,
   "metadata": {},
   "outputs": [
    {
     "name": "stdout",
     "output_type": "stream",
     "text": [
      "Original list: [10, 63, 61, 60]\n",
      "Sorted list (Insertion Sort): [10, 60, 61, 63]\n"
     ]
    }
   ],
   "source": [
    "# Initialize the list\n",
    "l = []\n",
    "\n",
    "# Get the number of elements\n",
    "a = int(input(\"Enter the number of elements: \"))\n",
    "\n",
    "# Get the elements\n",
    "for i in range(a):\n",
    "    b = int(input(f\"Enter element {i+1}: \"))\n",
    "    l.append(b)\n",
    "\n",
    "# Print the original list\n",
    "print(\"Original list:\", l)\n",
    "\n",
    "# Insertion sort algorithm\n",
    "for i in range(1, len(l)):\n",
    "    key = l[i]\n",
    "    j = i - 1\n",
    "    while j >= 0 and l[j] > key:\n",
    "        l[j + 1] = l[j]\n",
    "        j -= 1\n",
    "    l[j + 1] = key\n",
    "\n",
    "# Print the sorted list\n",
    "print(\"Sorted list (Insertion Sort):\", l)\n"
   ]
  },
  {
   "cell_type": "code",
   "execution_count": null,
   "metadata": {},
   "outputs": [],
   "source": []
  }
 ],
 "metadata": {
  "kernelspec": {
   "display_name": "Python 3",
   "language": "python",
   "name": "python3"
  },
  "language_info": {
   "codemirror_mode": {
    "name": "ipython",
    "version": 3
   },
   "file_extension": ".py",
   "mimetype": "text/x-python",
   "name": "python",
   "nbconvert_exporter": "python",
   "pygments_lexer": "ipython3",
   "version": "3.12.2"
  }
 },
 "nbformat": 4,
 "nbformat_minor": 2
}
