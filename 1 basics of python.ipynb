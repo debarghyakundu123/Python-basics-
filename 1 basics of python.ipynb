{
 "cells": [
  {
   "cell_type": "code",
   "execution_count": 8,
   "metadata": {},
   "outputs": [
    {
     "name": "stdout",
     "output_type": "stream",
     "text": [
      "hello world \n"
     ]
    },
    {
     "data": {
      "text/plain": [
       "'print(\"sorry for becoming \\n too late \")'"
      ]
     },
     "execution_count": 8,
     "metadata": {},
     "output_type": "execute_result"
    }
   ],
   "source": [
    "print(\"hello world \")\n",
    "print(\"sorry for becoming \\n too late \")\n",
    "#my name is debarghya kundu "
   ]
  },
  {
   "cell_type": "code",
   "execution_count": 11,
   "metadata": {},
   "outputs": [
    {
     "name": "stdout",
     "output_type": "stream",
     "text": [
      "hello world \n"
     ]
    }
   ],
   "source": [
    "i=0\n",
    "if (i>0):\n",
    "    print(\"ok\") \n",
    "else:\n",
    "    print(\"hello world \")"
   ]
  },
  {
   "cell_type": "code",
   "execution_count": 17,
   "metadata": {},
   "outputs": [
    {
     "data": {
      "text/plain": [
       "'5john'"
      ]
     },
     "execution_count": 17,
     "metadata": {},
     "output_type": "execute_result"
    }
   ],
   "source": [
    "x=\"5\"\n",
    "y=\"john\"\n",
    "x+y"
   ]
  },
  {
   "cell_type": "code",
   "execution_count": 18,
   "metadata": {},
   "outputs": [
    {
     "name": "stdout",
     "output_type": "stream",
     "text": [
      "5000\n"
     ]
    }
   ],
   "source": [
    "x=50\n",
    "y=100\n",
    "print(x*y)"
   ]
  },
  {
   "cell_type": "code",
   "execution_count": 20,
   "metadata": {},
   "outputs": [
    {
     "name": "stdout",
     "output_type": "stream",
     "text": [
      "1600.0\n",
      "11600.0\n"
     ]
    }
   ],
   "source": [
    "principal=10000\n",
    "Rate=8\n",
    "time=2\n",
    "si=(principal*Rate*time)/100\n",
    "print(si)\n",
    "amount=principal+si\n",
    "print(amount)"
   ]
  },
  {
   "cell_type": "code",
   "execution_count": 23,
   "metadata": {},
   "outputs": [
    {
     "name": "stdout",
     "output_type": "stream",
     "text": [
      "ok you have learned it \n"
     ]
    }
   ],
   "source": [
    "def guddu():\n",
    "    print(\"ok you have learned it \")\n",
    "guddu()"
   ]
  },
  {
   "cell_type": "code",
   "execution_count": 25,
   "metadata": {},
   "outputs": [
    {
     "name": "stdout",
     "output_type": "stream",
     "text": [
      "3.62\n"
     ]
    }
   ],
   "source": [
    "a=3.62\n",
    "print(a)"
   ]
  },
  {
   "cell_type": "code",
   "execution_count": 28,
   "metadata": {},
   "outputs": [
    {
     "name": "stdout",
     "output_type": "stream",
     "text": [
      "(-6+2j)\n"
     ]
    }
   ],
   "source": [
    "a=2j-6\n",
    "print(a)"
   ]
  },
  {
   "cell_type": "code",
   "execution_count": 30,
   "metadata": {},
   "outputs": [
    {
     "name": "stdout",
     "output_type": "stream",
     "text": [
      "['False', 'None', 'True', 'and', 'as', 'assert', 'async', 'await', 'break', 'class', 'continue', 'def', 'del', 'elif', 'else', 'except', 'finally', 'for', 'from', 'global', 'if', 'import', 'in', 'is', 'lambda', 'nonlocal', 'not', 'or', 'pass', 'raise', 'return', 'try', 'while', 'with', 'yield']\n"
     ]
    }
   ],
   "source": [
    "import keyword\n",
    "print(keyword.kwlist)"
   ]
  },
  {
   "cell_type": "code",
   "execution_count": 32,
   "metadata": {},
   "outputs": [
    {
     "name": "stdout",
     "output_type": "stream",
     "text": [
      "welcome guddu have a nice day\n"
     ]
    }
   ],
   "source": [
    "name=input(\"enter your name \")\n",
    "print(\"welcome\",name,\"have a nice day\")"
   ]
  },
  {
   "cell_type": "code",
   "execution_count": 33,
   "metadata": {},
   "outputs": [
    {
     "name": "stdout",
     "output_type": "stream",
     "text": [
      "the sum of the number is  14 the product of the number is  45\n"
     ]
    }
   ],
   "source": [
    "a=int(input(\"enter the firts number\"))\n",
    "b=int(input(\"enter the second number\"))\n",
    "print(\"the sum of the number is \",a+b,\"the product of the number is \",a*b)"
   ]
  },
  {
   "cell_type": "code",
   "execution_count": 37,
   "metadata": {},
   "outputs": [
    {
     "name": "stdout",
     "output_type": "stream",
     "text": [
      "85\n"
     ]
    }
   ],
   "source": [
    "x=85.36\n",
    "print(int(x))"
   ]
  },
  {
   "cell_type": "code",
   "execution_count": 39,
   "metadata": {},
   "outputs": [
    {
     "name": "stdout",
     "output_type": "stream",
     "text": [
      "27\n"
     ]
    }
   ],
   "source": [
    "x=15\n",
    "y=12.36\n",
    "print(x+int(y))"
   ]
  },
  {
   "cell_type": "code",
   "execution_count": 43,
   "metadata": {},
   "outputs": [
    {
     "name": "stdout",
     "output_type": "stream",
     "text": [
      "2750.0\n",
      "13750.0\n"
     ]
    }
   ],
   "source": [
    "principal=int(input(\"enter the amount\"))\n",
    "Rate=int(input(\"enter the rate\"))\n",
    "time=int(input(\"enrter the time period\"))\n",
    "si=(principal*Rate*time)/100\n",
    "print(si)\n",
    "amount=principal+si\n",
    "\n",
    "print(amount)"
   ]
  },
  {
   "cell_type": "code",
   "execution_count": 45,
   "metadata": {},
   "outputs": [
    {
     "name": "stdout",
     "output_type": "stream",
     "text": [
      "200.96\n"
     ]
    }
   ],
   "source": [
    "r=int(input(\"enrtr the radiu in cm \"))\n",
    "area=3.14*r**2\n",
    "print(area)"
   ]
  },
  {
   "cell_type": "code",
   "execution_count": 50,
   "metadata": {},
   "outputs": [
    {
     "name": "stdout",
     "output_type": "stream",
     "text": [
      "u re a adult\n"
     ]
    }
   ],
   "source": [
    "age=int(input(\"entrt the age\"))\n",
    "if age>18:\n",
    "    print(\"u re a adult\")\n",
    "else:\n",
    "    print(\"not a adult\")"
   ]
  },
  {
   "cell_type": "code",
   "execution_count": 2,
   "metadata": {},
   "outputs": [
    {
     "name": "stdout",
     "output_type": "stream",
     "text": [
      "num 1 is greater \n"
     ]
    }
   ],
   "source": [
    "num1=int(input(\"enter the first number \"))\n",
    "num2=int(input(\"entrt the second number\"))\n",
    "num3=int(input(\"enter the third number \"))\n",
    "if num1>num2 and num1>num3:\n",
    "    print(\"num 1 is greater \")\n",
    "elif num2>num1 and num2>num3:\n",
    "    print(\"num 2 is greater\")\n",
    "else:\n",
    "    print(\"num 3 is greater \")"
   ]
  },
  {
   "cell_type": "code",
   "execution_count": 4,
   "metadata": {},
   "outputs": [
    {
     "name": "stdout",
     "output_type": "stream",
     "text": [
      "8\n"
     ]
    }
   ],
   "source": [
    "#four function calculator \n",
    "num1=int(input(\"enter the first number \"))\n",
    "num2=int(input(\"entrt the second number\"))\n",
    "x=int(input(\"enter the 1 2 3 4\"))\n",
    "if x==1:\n",
    "    print(num1+num2)\n",
    "elif x==2:\n",
    "    print(num1-num2)\n",
    "elif x==3:\n",
    "    print(num1*num2)\n",
    "else:\n",
    "    print(num1/num2)"
   ]
  },
  {
   "cell_type": "code",
   "execution_count": 5,
   "metadata": {},
   "outputs": [
    {
     "name": "stdout",
     "output_type": "stream",
     "text": [
      "90000\n"
     ]
    }
   ],
   "source": [
    "basic=int(input(\"enter the basic salary\"))\n",
    "savings=int(input(\"enter the savings amount\"))\n",
    "total_income = 100000-basic-savings\n",
    "print(total_income)\n"
   ]
  },
  {
   "cell_type": "code",
   "execution_count": 7,
   "metadata": {},
   "outputs": [
    {
     "name": "stdout",
     "output_type": "stream",
     "text": [
      "0\n",
      "1\n",
      "2\n",
      "3\n",
      "4\n",
      "5\n"
     ]
    }
   ],
   "source": [
    "for i in range(0,6):\n",
    "    print(i)"
   ]
  },
  {
   "cell_type": "code",
   "execution_count": 12,
   "metadata": {},
   "outputs": [
    {
     "name": "stdout",
     "output_type": "stream",
     "text": [
      "3 * 0 = 0\n",
      "3 * 1 = 3\n",
      "3 * 2 = 6\n",
      "3 * 3 = 9\n",
      "3 * 4 = 12\n",
      "3 * 5 = 15\n",
      "3 * 6 = 18\n",
      "3 * 7 = 21\n",
      "3 * 8 = 24\n",
      "3 * 9 = 27\n",
      "3 * 10 = 30\n"
     ]
    }
   ],
   "source": [
    "for i in range (0,11):\n",
    "    print (\"3\",\"*\",i,\"=\",3*i)"
   ]
  },
  {
   "cell_type": "code",
   "execution_count": 14,
   "metadata": {},
   "outputs": [
    {
     "name": "stdout",
     "output_type": "stream",
     "text": [
      "10 = 1000\n",
      "11 = 1331\n",
      "12 = 1728\n",
      "13 = 2197\n",
      "14 = 2744\n",
      "15 = 3375\n",
      "16 = 4096\n",
      "17 = 4913\n",
      "18 = 5832\n"
     ]
    }
   ],
   "source": [
    "for i in range (10,19):\n",
    "    print(i,\"=\",i**3)"
   ]
  },
  {
   "cell_type": "code",
   "execution_count": 15,
   "metadata": {},
   "outputs": [
    {
     "name": "stdout",
     "output_type": "stream",
     "text": [
      "1 = 1.0\n",
      "3 = 1.7320508075688772\n",
      "5 = 2.23606797749979\n",
      "7 = 2.6457513110645907\n",
      "9 = 3.0\n"
     ]
    }
   ],
   "source": [
    "for i in range (1,11,2):\n",
    "    print(i,\"=\",i**0.5)"
   ]
  },
  {
   "cell_type": "code",
   "execution_count": 23,
   "metadata": {},
   "outputs": [
    {
     "name": "stdout",
     "output_type": "stream",
     "text": [
      "120\n"
     ]
    }
   ],
   "source": [
    "num=5\n",
    "fact=1\n",
    "i=1\n",
    "while i<=num:\n",
    "    fact=fact*i\n",
    "    i+=1\n",
    "print(fact)"
   ]
  }
 ],
 "metadata": {
  "kernelspec": {
   "display_name": "Python 3",
   "language": "python",
   "name": "python3"
  },
  "language_info": {
   "codemirror_mode": {
    "name": "ipython",
    "version": 3
   },
   "file_extension": ".py",
   "mimetype": "text/x-python",
   "name": "python",
   "nbconvert_exporter": "python",
   "pygments_lexer": "ipython3",
   "version": "3.12.2"
  }
 },
 "nbformat": 4,
 "nbformat_minor": 2
}
